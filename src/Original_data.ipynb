{
 "cells": [
  {
   "cell_type": "code",
   "execution_count": 16,
   "metadata": {
    "collapsed": true
   },
   "outputs": [],
   "source": [
    "import os\n",
    "import matplotlib.pyplot as plt\n",
    "import numpy as np\n",
    "import pandas as pd\n",
    "\n",
    "import seaborn as sns\n",
    "sns.set(color_codes=True)\n",
    "%matplotlib inline\n",
    "plt.style.use('ggplot')"
   ]
  },
  {
   "cell_type": "code",
   "execution_count": 21,
   "metadata": {},
   "outputs": [],
   "source": [
    "original = pd.read_csv('./data/original_data/student-mat.csv')\n",
    "\n",
    "original.Mjob = pd.factorize(original.Mjob)[0]\n",
    "original.Fjob = pd.factorize(original.Fjob)[0]\n",
    "original.reason = pd.factorize(original.reason)[0]\n",
    "original.guardian = pd.factorize(original.guardian)[0]\n",
    "\n",
    "original.school = original.school.map({'GP': 0, 'MS': 1})\n",
    "original.sex = original.sex.map({'F': 0, 'M': 1})\n",
    "original.address = original.address.map({'R': 0, 'U': 1})\n",
    "original.famsize = original.famsize.map({'GT3': 0, 'LE3': 1})\n",
    "original.Pstatus = original.Pstatus.map({'A': 0, 'T': 1})\n",
    "original.schoolsup = original.schoolsup.map({'no': 0, 'yes': 1})\n",
    "original.famsup = original.famsup.map({'no': 0, 'yes': 1})\n",
    "original.paid = original.paid.map({'no': 0, 'yes': 1})\n",
    "original.activities = original.activities.map({'no': 0, 'yes': 1})\n",
    "original.nursery = original.nursery.map({'no': 0, 'yes': 1})\n",
    "original.higher = original.higher.map({'no': 0, 'yes': 1})\n",
    "original.internet = original.internet.map({'no': 0, 'yes': 1})\n",
    "original.romantic = original.romantic.map({'no': 0, 'yes': 1})"
   ]
  },
  {
   "cell_type": "code",
   "execution_count": 22,
   "metadata": {},
   "outputs": [
    {
     "data": {
      "text/plain": [
       "<matplotlib.text.Text at 0x1119b3f60>"
      ]
     },
     "execution_count": 22,
     "metadata": {},
     "output_type": "execute_result"
    },
    {
     "data": {
      "image/png": "[encoded data removed]",
      "text/plain": [
       "<matplotlib.figure.Figure at 0x10d170da0>"
      ]
     },
     "metadata": {},
     "output_type": "display_data"
    }
   ],
   "source": [
    "ax = sns.distplot(original.G3, kde=False)\n",
    "ax.set(xlabel='G3 grades', ylabel='Count')\n",
    "ax.set_title(\"Histogram of response\")"
   ]
  },
  {
   "cell_type": "code",
   "execution_count": 23,
   "metadata": {},
   "outputs": [],
   "source": [
    "out_file = \"./data/original.csv\"\n",
    "original.to_csv(path_or_buf=out_file, header=True, index=False)"
   ]
  },
  {
   "cell_type": "code",
   "execution_count": null,
   "metadata": {
    "collapsed": true
   },
   "outputs": [],
   "source": []
  }
 ],
 "metadata": {
  "kernelspec": {
   "display_name": "Python 3",
   "language": "python",
   "name": "python3"
  },
  "language_info": {
   "codemirror_mode": {
    "name": "ipython",
    "version": 3
   },
   "file_extension": ".py",
   "mimetype": "text/x-python",
   "name": "python",
   "nbconvert_exporter": "python",
   "pygments_lexer": "ipython3",
   "version": "3.5.4"
  }
 },
 "nbformat": 4,
 "nbformat_minor": 2
}
