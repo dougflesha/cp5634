{
 "cells": [
  {
   "cell_type": "code",
   "execution_count": 4,
   "metadata": {
    "collapsed": true
   },
   "outputs": [],
   "source": [
    "import os\n",
    "import matplotlib.pyplot as plt\n",
    "import numpy as np\n",
    "import pandas as pd\n",
    "\n",
    "import seaborn as sns\n",
    "sns.set(color_codes=True)\n",
    "%matplotlib inline\n",
    "plt.style.use('ggplot')"
   ]
  },
  {
   "cell_type": "code",
   "execution_count": 8,
   "metadata": {
    "collapsed": true
   },
   "outputs": [],
   "source": [
    "np.random.seed(0)\n",
    "\n",
    "dat = pd.read_csv('./data/original_data/stu.csv')\n",
    "\n",
    "dat.Mjob = pd.factorize(dat.Mjob)[0]\n",
    "dat.Fjob = pd.factorize(dat.Fjob)[0]\n",
    "dat.reason = pd.factorize(dat.reason)[0]\n",
    "dat.guardian = pd.factorize(dat.guardian)[0]\n",
    "dat.G3_PF = pd.factorize(dat.G3_PF)[0]\n",
    "\n",
    "dat.school = dat.school.map({'GP': 0, 'MS': 1})\n",
    "dat.sex = dat.sex.map({'F': 0, 'M': 1})\n",
    "dat.address = dat.address.map({'R': 0, 'U': 1})\n",
    "dat.famsize = dat.famsize.map({'GT3': 0, 'LE3': 1})\n",
    "dat.Pstatus = dat.Pstatus.map({'A': 0, 'T': 1})\n",
    "dat.schoolsup = dat.schoolsup.map({'no': 0, 'yes': 1})\n",
    "dat.famsup = dat.famsup.map({'no': 0, 'yes': 1})\n",
    "dat.paid = dat.paid.map({'no': 0, 'yes': 1})\n",
    "dat.activities = dat.activities.map({'no': 0, 'yes': 1})\n",
    "dat.nursery = dat.nursery.map({'no': 0, 'yes': 1})\n",
    "dat.higher = dat.higher.map({'no': 0, 'yes': 1})\n",
    "dat.internet = dat.internet.map({'no': 0, 'yes': 1})\n",
    "dat.romantic = dat.romantic.map({'no': 0, 'yes': 1})\n",
    "\n",
    "X = dat.drop([\"G3\", \"G3_PF\"], axis=1)\n",
    "y = dat.G3_PF"
   ]
  },
  {
   "cell_type": "code",
   "execution_count": 9,
   "metadata": {},
   "outputs": [
    {
     "data": {
      "text/plain": [
       "<matplotlib.text.Text at 0x11b4df550>"
      ]
     },
     "execution_count": 9,
     "metadata": {},
     "output_type": "execute_result"
    },
    {
     "data": {
      "image/png": "[encoded data removed]",
      "text/plain": [
       "<matplotlib.figure.Figure at 0x118c64128>"
      ]
     },
     "metadata": {},
     "output_type": "display_data"
    }
   ],
   "source": [
    "ax = sns.countplot(x=\"G3_PF\", data=dat)\n",
    "ax.set(xlabel='G3 Fail/Pass', ylabel='Count')\n",
    "ax.set_title(\"Histogram of response\")"
   ]
  },
  {
   "cell_type": "code",
   "execution_count": 10,
   "metadata": {
    "collapsed": true
   },
   "outputs": [],
   "source": [
    "out_file = \"./data/binary.csv\"\n",
    "dat.to_csv(path_or_buf=out_file, header=True, index=False)"
   ]
  },
  {
   "cell_type": "code",
   "execution_count": null,
   "metadata": {
    "collapsed": true
   },
   "outputs": [],
   "source": []
  }
 ],
 "metadata": {
  "kernelspec": {
   "display_name": "Python 3",
   "language": "python",
   "name": "python3"
  },
  "language_info": {
   "codemirror_mode": {
    "name": "ipython",
    "version": 3
   },
   "file_extension": ".py",
   "mimetype": "text/x-python",
   "name": "python",
   "nbconvert_exporter": "python",
   "pygments_lexer": "ipython3",
   "version": "3.5.4"
  }
 },
 "nbformat": 4,
 "nbformat_minor": 2
}
